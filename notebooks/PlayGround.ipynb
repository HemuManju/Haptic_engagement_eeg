{
 "cells": [
  {
   "cell_type": "code",
   "execution_count": 1,
   "metadata": {},
   "outputs": [],
   "source": [
    "import mne"
   ]
  },
  {
   "cell_type": "code",
   "execution_count": 2,
   "metadata": {},
   "outputs": [
    {
     "name": "stderr",
     "output_type": "stream",
     "text": [
      "<ipython-input-2-9822bfabf7da>:1: DeprecationWarning: stim_channel will default to \"auto\" in 0.17 but change to False in 0.18, and will be removed in 0.19\n",
      "  raw = mne.io.read_raw_edf('Test.edf', preload=True, verbose=False)\n"
     ]
    }
   ],
   "source": [
    "raw = mne.io.read_raw_edf('Test.edf', preload=True, verbose=False)"
   ]
  },
  {
   "cell_type": "code",
   "execution_count": 4,
   "metadata": {},
   "outputs": [
    {
     "data": {
      "text/plain": [
       "['ECG',\n",
       " 'POz',\n",
       " 'Fz',\n",
       " 'Cz',\n",
       " 'C3',\n",
       " 'C4',\n",
       " 'F3',\n",
       " 'F4',\n",
       " 'P3',\n",
       " 'P4',\n",
       " 'ESUTimestamp',\n",
       " 'SystemTimestamp',\n",
       " 'Tilt X',\n",
       " 'Tilt Y',\n",
       " 'Tilt Z',\n",
       " 'STI 014']"
      ]
     },
     "execution_count": 4,
     "metadata": {},
     "output_type": "execute_result"
    }
   ],
   "source": [
    "raw.ch_names"
   ]
  },
  {
   "cell_type": "code",
   "execution_count": null,
   "metadata": {},
   "outputs": [],
   "source": []
  }
 ],
 "metadata": {
  "kernelspec": {
   "display_name": "Python 3",
   "language": "python",
   "name": "python3"
  },
  "language_info": {
   "codemirror_mode": {
    "name": "ipython",
    "version": 3
   },
   "file_extension": ".py",
   "mimetype": "text/x-python",
   "name": "python",
   "nbconvert_exporter": "python",
   "pygments_lexer": "ipython3",
   "version": "3.6.8"
  }
 },
 "nbformat": 4,
 "nbformat_minor": 2
}
